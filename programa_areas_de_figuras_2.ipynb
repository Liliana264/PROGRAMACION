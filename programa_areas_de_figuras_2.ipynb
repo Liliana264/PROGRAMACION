{
  "nbformat": 4,
  "nbformat_minor": 0,
  "metadata": {
    "colab": {
      "provenance": [],
      "authorship_tag": "ABX9TyPnIvXBmapSXPTEhEyDkj1V",
      "include_colab_link": true
    },
    "kernelspec": {
      "name": "python3",
      "display_name": "Python 3"
    },
    "language_info": {
      "name": "python"
    }
  },
  "cells": [
    {
      "cell_type": "markdown",
      "metadata": {
        "id": "view-in-github",
        "colab_type": "text"
      },
      "source": [
        "<a href=\"https://colab.research.google.com/github/Liliana264/PROGRAMACION/blob/main/programa_areas_de_figuras_2.ipynb\" target=\"_parent\"><img src=\"https://colab.research.google.com/assets/colab-badge.svg\" alt=\"Open In Colab\"/></a>"
      ]
    },
    {
      "cell_type": "markdown",
      "source": [
        "Programa de Áreas de figuras geometricas realizado por Liliana Licea Valdez"
      ],
      "metadata": {
        "id": "emAyOkutg_PE"
      }
    },
    {
      "cell_type": "code",
      "execution_count": 8,
      "metadata": {
        "colab": {
          "base_uri": "https://localhost:8080/"
        },
        "id": "MHIfoHcjEwBA",
        "outputId": "813d07b4-f9e8-4c94-8048-c2dacc5d650b"
      },
      "outputs": [
        {
          "output_type": "stream",
          "name": "stdout",
          "text": [
            "De que figura deseas calcular el área: \n",
            "1. circulo \n",
            "2. trapecio \n",
            "3. rectangulos \n",
            "Opción: 1\n",
            "Ingrese el radio del circulo: 5\n",
            "El área es:  78.53999999999999\n"
          ]
        }
      ],
      "source": [
        "class Figuras():\n",
        "  def __init__(self):\n",
        "    self.a=0\n",
        "    self.b=0\n",
        "    self.c=0\n",
        "  def op(self):\n",
        "    print(\"De que figura deseas calcular el área: \")\n",
        "    print(\"1. circulo \")\n",
        "    print(\"2. trapecio \")\n",
        "    print(\"3. rectangulos \")\n",
        "    r=int(input(\"Opción: \"))\n",
        "    return(r)\n",
        "\n",
        "  def circulo(area,r):\n",
        "    area=(3.1416) * (r**2)\n",
        "    return(area)\n",
        "\n",
        "  def trapecio(area,b1,b2,h):\n",
        "    area=((b1+b2)* h)/2\n",
        "    return(area)\n",
        "\n",
        "  def rectangulo(area,b,h):\n",
        "    area=(b*h)\n",
        "    return (area)\n",
        "\n",
        "\n",
        "obj=Figuras()\n",
        "s=obj.op()\n",
        "if s==1:\n",
        "  obj.a=float(input(\"Ingrese el radio del circulo: \"))\n",
        "  resultado=obj.circulo(obj.a)\n",
        "  print(\"El área es: \",resultado)\n",
        "\n",
        "elif s==2:\n",
        "  obj.a=float(input(\"Ingresa la base mayor: \"))\n",
        "  obj.b=float(input(\"Ingresa la base menor: \"))\n",
        "  obj.c=float(input(\"Ingresa la altura: \"))\n",
        "  resultado=obj.trapecio(obj.a,obj.b,obj.c)\n",
        "  print(\"El área es: \",resultado)\n",
        "\n",
        "elif s==3:\n",
        "  obj.a=float(input(\"Ingresa la base: \"))\n",
        "  obj.b=float(input(\"Ingresa la altura: \"))\n",
        "  resultado=obj.rectangulo(obj.a,obj.b)\n",
        "  print(\"El área es: \",resultado)\n"
      ]
    }
  ]
}