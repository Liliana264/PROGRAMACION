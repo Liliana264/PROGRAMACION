{
  "nbformat": 4,
  "nbformat_minor": 0,
  "metadata": {
    "colab": {
      "provenance": [],
      "authorship_tag": "ABX9TyN2iTRwFT4FNiFfrJyEid3y",
      "include_colab_link": true
    },
    "kernelspec": {
      "name": "python3",
      "display_name": "Python 3"
    },
    "language_info": {
      "name": "python"
    }
  },
  "cells": [
    {
      "cell_type": "markdown",
      "metadata": {
        "id": "view-in-github",
        "colab_type": "text"
      },
      "source": [
        "<a href=\"https://colab.research.google.com/github/Liliana264/PROGRAMACION/blob/main/P3_Suma.ipynb\" target=\"_parent\"><img src=\"https://colab.research.google.com/assets/colab-badge.svg\" alt=\"Open In Colab\"/></a>"
      ]
    },
    {
      "cell_type": "code",
      "execution_count": null,
      "metadata": {
        "id": "EjZBYIQw-4KI"
      },
      "outputs": [],
      "source": []
    },
    {
      "cell_type": "markdown",
      "source": [
        "SUMA__ realizado por Liliana Licea Valdez_ 06/02/2025"
      ],
      "metadata": {
        "id": "JNgXvp_o-7-M"
      }
    },
    {
      "cell_type": "code",
      "source": [
        "class Suma:\n",
        "  def __init__(self):\n",
        "    self.valorA=12\n",
        "    self.valorB=10\n",
        "\n",
        "  def operacion(self):\n",
        "    resultado=self.valorA+self.valorB\n",
        "    print(\"El resultado es\", resultado)\n",
        "\n",
        "obj=Suma()\n",
        "obj.operacion()\n",
        "\n"
      ],
      "metadata": {
        "colab": {
          "base_uri": "https://localhost:8080/"
        },
        "id": "WcZsPC5v_ISk",
        "outputId": "d6546148-f713-47d7-c35f-f40b0ca8fe1a"
      },
      "execution_count": 6,
      "outputs": [
        {
          "output_type": "stream",
          "name": "stdout",
          "text": [
            "El resultado es 22\n"
          ]
        }
      ]
    },
    {
      "cell_type": "markdown",
      "source": [
        "Variante número 2 _ pidiendo valores"
      ],
      "metadata": {
        "id": "rSpmS_rWDD07"
      }
    },
    {
      "cell_type": "code",
      "source": [
        "class Operaciones:\n",
        "  def __init__(self):\n",
        "    self.valorA=0\n",
        "    self.valorB=0\n",
        "    self.resultado=0\n",
        "    self.msg=\"\"\n",
        "\n",
        "  def suma(self):\n",
        "    self.msg=\"La suma de \", self.valorA, \"+\", self.valorB, \"es = \"\n",
        "    self.resultado=self.valorA+self.valorB\n",
        "\n",
        "\n",
        "  def resta(self):\n",
        "    self.msg=\"La resta de \", self.valorA, \" - \", self.valorB, \"es = \"\n",
        "    self.resultado=self.valorA-self.valorB\n",
        "\n",
        "  def multiplicacion(self):\n",
        "    self.msg=\"La multiplicación de  \", self.valorA, \" * \", self.valorB, \"es = \"\n",
        "    self.resultado=self.valorA*self.valorB\n",
        "\n",
        "  def imprimir(self):\n",
        "    print(self.msg , self.resultado)"
      ],
      "metadata": {
        "id": "31-w6NypDCJ2"
      },
      "execution_count": 38,
      "outputs": []
    },
    {
      "cell_type": "code",
      "source": [
        "obj=Operaciones()\n",
        "obj.valorA=int(input(\"Ingrese el primer valor: \"))\n",
        "obj.valorB=int(input(\"Ingrese el segundo valor: \"))\n",
        "obj.suma()\n",
        "obj.imprimir()\n",
        "obj.resta()\n",
        "obj.imprimir()\n",
        "obj.multiplicacion()\n",
        "obj.imprimir()"
      ],
      "metadata": {
        "colab": {
          "base_uri": "https://localhost:8080/"
        },
        "id": "e8JLvRoDD-PF",
        "outputId": "86b03183-39c8-4321-aa39-54c23cd8fe07"
      },
      "execution_count": 39,
      "outputs": [
        {
          "output_type": "stream",
          "name": "stdout",
          "text": [
            "Ingrese el primer valor: 100\n",
            "Ingrese el segundo valor: 2\n",
            "('La suma de ', 100, '+', 2, 'es = ') 102\n",
            "('La resta de ', 100, ' - ', 2, 'es = ') 98\n",
            "('La multiplicación de  ', 100, ' * ', 2, 'es = ') 200\n"
          ]
        }
      ]
    },
    {
      "cell_type": "code",
      "source": [
        "\n"
      ],
      "metadata": {
        "id": "-uYjMYD1HQdF"
      },
      "execution_count": null,
      "outputs": []
    }
  ]
}